{
 "cells": [
  {
   "cell_type": "code",
   "execution_count": null,
   "id": "6c14891a",
   "metadata": {},
   "outputs": [],
   "source": [
    "import pandas as pd\n",
    "import numpy as np\n",
    "import time\n",
    "import yfinance as yf\n",
    "from plotly.subplots import make_subplots\n",
    "import plotly.graph_objects as go"
   ]
  },
  {
   "cell_type": "code",
   "execution_count": null,
   "id": "5c20594e",
   "metadata": {},
   "outputs": [],
   "source": [
    "stockData= yf.download('EURUSD=x',start='2023-09-01', interval='1h')"
   ]
  },
  {
   "cell_type": "code",
   "execution_count": null,
   "id": "21c466d6",
   "metadata": {},
   "outputs": [],
   "source": [
    "stockData.reset_index(inplace=True) # moves Datatime index to column and creates new index column\n"
   ]
  },
  {
   "cell_type": "code",
   "execution_count": null,
   "id": "77198cc9",
   "metadata": {},
   "outputs": [],
   "source": [
    "df=stockData\n",
    "df.isna().sum() # check if any na values \n",
    "df=df[:10000]\n",
    "#df.head(10)\n",
    " \n"
   ]
  },
  {
   "cell_type": "code",
   "execution_count": null,
   "id": "a3871bb2",
   "metadata": {},
   "outputs": [],
   "source": [
    "#cci = current candle  , acc = after cc, bcc= before cc, tdf= temp data frame\n",
    "# we are only interested in values 1 & 2\n",
    "def isPivot(cc,bcc,acc,tdf): \n",
    "    if (cc-bcc) < 0 or cc+acc >= len(tdf): \n",
    "        return 0 \n",
    "    \n",
    "    pivot_low=1\n",
    "    pivot_high=1\n",
    " \n",
    "    for x in range(cc-bcc, cc+acc+1):\n",
    "        \n",
    "        # checks if candels low and high are with in low and high of candle we comparing with and did not break them. \n",
    "        #We can ignore these ones so setting pivot_low = 0 and pivot_high = 0 accordingly \n",
    "        \n",
    "        if (tdf.Low[cc]>tdf.Low[x]): \n",
    "            pivot_low=0\n",
    "        if  (tdf.High[cc]<tdf.High[x]):\n",
    "            pivot_high=0\n",
    "            \n",
    "    if pivot_low and pivot_high:\n",
    "        return 3  #  if it makes higher wicker and lower wick, we can avoid this case. \n",
    "    elif pivot_low:\n",
    "        return 1 \n",
    "    elif pivot_high:\n",
    "        return 2 \n",
    "    else:\n",
    "        return 0 # ignore this \n",
    "            \n",
    "        \n",
    "Pivoted_list=[]\n",
    "candles_To_comare=10\n",
    "\n",
    "for x in df.index:\n",
    "    Pivoted_list.append(isPivot(x,candles_To_comare,candles_To_comare,df))\n",
    "df['Pivoted']=Pivoted_list \n",
    "\n",
    "   \n"
   ]
  },
  {
   "cell_type": "code",
   "execution_count": null,
   "id": "4248bdf3",
   "metadata": {},
   "outputs": [],
   "source": [
    "\n",
    "#df.head(50)"
   ]
  },
  {
   "cell_type": "code",
   "execution_count": null,
   "id": "1c44b17a",
   "metadata": {},
   "outputs": [],
   "source": [
    "def signal_position(x):\n",
    "    if x['Pivoted']==1:\n",
    "        return x['Low']-0.001\n",
    "    if x['Pivoted']==2:\n",
    "        return x['High']+0.001\n",
    "    else:\n",
    "        return np.nan\n",
    "    \n",
    "\n",
    "signal_position_list=[]\n",
    "for index, row in df.iterrows():\n",
    "    signal_position_list.append(signal_position(row))\n",
    "df['signal_pos'] = signal_position_list \n"
   ]
  },
  {
   "cell_type": "code",
   "execution_count": null,
   "id": "7e8bc714",
   "metadata": {},
   "outputs": [],
   "source": [
    "df.head(50)"
   ]
  },
  {
   "cell_type": "code",
   "execution_count": null,
   "id": "609d9677",
   "metadata": {},
   "outputs": [],
   "source": [
    "# plot candle stick chart \n",
    "\n",
    "\n",
    "\n",
    "tdf = df[-500:-1]\n",
    "fig = go.Figure(data=[go.Candlestick(x=tdf.index,\n",
    "                open=tdf['Open'],\n",
    "                high=tdf['High'],\n",
    "                low=tdf['Low'],\n",
    "                close=tdf['Close'],\n",
    "                increasing_line_color= 'green', \n",
    "                decreasing_line_color= 'darkred')])\n",
    "\n",
    "\n",
    "fig.add_scatter(x=tdf.index, y=tdf['signal_pos'], mode=\"markers\",\n",
    "                marker=dict(size=5, color=\"orange\"),\n",
    "                name=\"pivot\")\n",
    "\n",
    "fig.update_layout(\n",
    "    xaxis_rangeslider_visible=False,\n",
    "    yaxis_fixedrange=False,\n",
    "    title='Plot Pivot Points | EURUSD | 1h'\n",
    ")\n",
    "\n",
    "fig.update_layout(paper_bgcolor='white', plot_bgcolor='black',    \n",
    "                  xaxis=dict(showspikes=True),   \n",
    "                  yaxis=dict(showspikes=True))\n",
    "fig.update_xaxes(showgrid=False)\n",
    "fig.update_yaxes(showgrid=False)\n",
    "\n",
    "\n",
    "fig.show()"
   ]
  },
  {
   "cell_type": "code",
   "execution_count": null,
   "id": "bcf00ac2",
   "metadata": {},
   "outputs": [],
   "source": [
    "import matplotlib.pyplot as plt\n",
    "\n",
    "dfkeys = df[-1000:-1]\n",
    "\n",
    "# Filter the dataframe based on the pivot column\n",
    "high_values = dfkeys[dfkeys['Pivoted'] == 2]['High']\n",
    "low_values = dfkeys[dfkeys['Pivoted'] == 1]['Low']\n",
    "\n",
    "# Define the bin width\n",
    "# Change this value as needed\n",
    "bin_width = 0.002  # Change this value as needed\n",
    "\n",
    "# Calculate the number of bins\n",
    "bins = int((high_values.max() - low_values.min()) / bin_width)\n",
    "\n",
    "# Create the histograms\n",
    "plt.figure(figsize=(15, 7))\n",
    "plt.hist(high_values, bins=bins, alpha=0.5,  color='red', label='Resistance')\n",
    "plt.hist(low_values, bins=bins, alpha=0.5, color='blue', label='Support ')\n",
    "\n",
    "plt.xlabel('Price')\n",
    "plt.ylabel('No of Times Support & reisstance touched ')\n",
    "plt.title('Histogram of support & resistance | EURUSD | 1h')\n",
    "plt.legend(loc=2, fontsize=15)"
   ]
  },
  {
   "cell_type": "code",
   "execution_count": null,
   "id": "863cb613",
   "metadata": {},
   "outputs": [],
   "source": []
  },
  {
   "cell_type": "code",
   "execution_count": null,
   "id": "ea114293",
   "metadata": {},
   "outputs": [],
   "source": []
  },
  {
   "cell_type": "code",
   "execution_count": null,
   "id": "e3d3bcee",
   "metadata": {},
   "outputs": [],
   "source": []
  }
 ],
 "metadata": {
  "kernelspec": {
   "display_name": "Python 3 (ipykernel)",
   "language": "python",
   "name": "python3"
  },
  "language_info": {
   "codemirror_mode": {
    "name": "ipython",
    "version": 3
   },
   "file_extension": ".py",
   "mimetype": "text/x-python",
   "name": "python",
   "nbconvert_exporter": "python",
   "pygments_lexer": "ipython3",
   "version": "3.11.7"
  }
 },
 "nbformat": 4,
 "nbformat_minor": 5
}
